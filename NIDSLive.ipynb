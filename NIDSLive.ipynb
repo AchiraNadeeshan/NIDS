{
 "cells": [
  {
   "cell_type": "markdown",
   "metadata": {},
   "source": [
    "## Loading the model"
   ]
  },
  {
   "cell_type": "code",
   "execution_count": 1,
   "metadata": {},
   "outputs": [],
   "source": [
    "import joblib\n",
    "\n",
    "# Load the model\n",
    "loaded_model = joblib.load('random_forest_model.pkl')"
   ]
  },
  {
   "cell_type": "markdown",
   "metadata": {},
   "source": [
    "### Capturing live traffic using scapy and Preprocess the Captured Data"
   ]
  },
  {
   "cell_type": "markdown",
   "metadata": {},
   "source": [
    "Find out available network interfaces"
   ]
  },
  {
   "cell_type": "code",
   "execution_count": 2,
   "metadata": {},
   "outputs": [
    {
     "name": "stdout",
     "output_type": "stream",
     "text": [
      "['{39F984D3-949A-4B2B-9801-7CEB8F0BE110}', '{4E2425F9-9E1A-4EFD-A25B-6A01D0CADB6E}', '{C7544003-7698-4181-9977-2BC477E7FED6}', '{7A9105AD-1ADE-433B-9491-D9E565FF8549}', '{7C0D1531-42C5-4015-B6A0-50A074DBA5F9}', '{D64AF707-AE01-48A5-88FD-49FAE74BF383}', '{3D759493-EBA8-4B20-8697-A81D4323D608}', '{2C650E79-2A69-48B8-9D96-0D8E8B234426}', '{512B0187-7635-4862-BE89-8821326A3EF6}', '\\\\Device\\\\NPF_Loopback', '{B236F5B9-CA30-43A6-8171-4C5E328FCDB6}']\n"
     ]
    }
   ],
   "source": [
    "from scapy.all import get_if_list\n",
    "print(get_if_list())"
   ]
  },
  {
   "cell_type": "code",
   "execution_count": 3,
   "metadata": {},
   "outputs": [
    {
     "name": "stdout",
     "output_type": "stream",
     "text": [
      "Interface Name: Intel(R) Wi-Fi 6 AX201 160MHz\n",
      "GUID: {7C0D1531-42C5-4015-B6A0-50A074DBA5F9}\n",
      "\n",
      "Interface Name: VMware Virtual Ethernet Adapter for VMnet1\n",
      "GUID: {3D759493-EBA8-4B20-8697-A81D4323D608}\n",
      "\n",
      "Interface Name: VMware Virtual Ethernet Adapter for VMnet8\n",
      "GUID: {D64AF707-AE01-48A5-88FD-49FAE74BF383}\n",
      "\n"
     ]
    }
   ],
   "source": [
    "import wmi\n",
    "\n",
    "c = wmi.WMI()\n",
    "for i in c.Win32_NetworkAdapterConfiguration(IPEnabled=True):\n",
    "    interface = print(f\"Interface Name: {i.Description}\")\n",
    "    print(f\"GUID: {i.SettingID}\\n\")"
   ]
  },
  {
   "cell_type": "code",
   "execution_count": 4,
   "metadata": {},
   "outputs": [
    {
     "name": "stdout",
     "output_type": "stream",
     "text": [
      "   duration  protocol_type flag  src_bytes  dst_bytes  land  wrong_fragment  \\\n",
      "0         0              6   DF       1420          0     0               0   \n",
      "1         0              6   DF       1420          0     0               0   \n",
      "2         0              6   DF         20          0     0               0   \n",
      "3         0              6   DF       1420          0     0               0   \n",
      "4         0              6   DF        352          0     0               0   \n",
      "5         0              6   DF         20          0     0               0   \n",
      "6         0              6   DF       1420          0     0               0   \n",
      "7         0              6   DF       1420          0     0               0   \n",
      "8         0              6   DF       1420          0     0               0   \n",
      "9         0              6   DF       1420          0     0               0   \n",
      "\n",
      "   urgent  hot  num_failed_logins  ...  same_srv_rate  diff_srv_rate  \\\n",
      "0       0    0                  0  ...              0              0   \n",
      "1       0    0                  0  ...              0              0   \n",
      "2       0    0                  0  ...              0              0   \n",
      "3       0    0                  0  ...              0              0   \n",
      "4       0    0                  0  ...              0              0   \n",
      "5       0    0                  0  ...              0              0   \n",
      "6       0    0                  0  ...              0              0   \n",
      "7       0    0                  0  ...              0              0   \n",
      "8       0    0                  0  ...              0              0   \n",
      "9       0    0                  0  ...              0              0   \n",
      "\n",
      "   srv_diff_host_rate  dst_host_count  dst_host_srv_count  \\\n",
      "0                   0               0                   0   \n",
      "1                   0               0                   0   \n",
      "2                   0               0                   0   \n",
      "3                   0               0                   0   \n",
      "4                   0               0                   0   \n",
      "5                   0               0                   0   \n",
      "6                   0               0                   0   \n",
      "7                   0               0                   0   \n",
      "8                   0               0                   0   \n",
      "9                   0               0                   0   \n",
      "\n",
      "   dst_host_diff_srv_rate  dst_host_same_src_port_rate  \\\n",
      "0                       0                            0   \n",
      "1                       0                            0   \n",
      "2                       0                            0   \n",
      "3                       0                            0   \n",
      "4                       0                            0   \n",
      "5                       0                            0   \n",
      "6                       0                            0   \n",
      "7                       0                            0   \n",
      "8                       0                            0   \n",
      "9                       0                            0   \n",
      "\n",
      "   dst_host_srv_diff_host_rate  target  Attack Type  \n",
      "0                            0       0       normal  \n",
      "1                            0       0       normal  \n",
      "2                            0       0       normal  \n",
      "3                            0       0       normal  \n",
      "4                            0       0       normal  \n",
      "5                            0       0       normal  \n",
      "6                            0       0       normal  \n",
      "7                            0       0       normal  \n",
      "8                            0       0       normal  \n",
      "9                            0       0       normal  \n",
      "\n",
      "[10 rows x 34 columns]\n"
     ]
    },
    {
     "data": {
      "text/plain": [
       "Index(['duration', 'protocol_type', 'flag', 'src_bytes', 'dst_bytes', 'land',\n",
       "       'wrong_fragment', 'urgent', 'hot', 'num_failed_logins', 'logged_in',\n",
       "       'num_compromised', 'root_shell', 'su_attempted', 'num_file_creations',\n",
       "       'num_shells', 'num_access_files', 'num_outbound_cmds', 'is_host_login',\n",
       "       'is_guest_login', 'count', 'srv_count', 'serror_rate', 'rerror_rate',\n",
       "       'same_srv_rate', 'diff_srv_rate', 'srv_diff_host_rate',\n",
       "       'dst_host_count', 'dst_host_srv_count', 'dst_host_diff_srv_rate',\n",
       "       'dst_host_same_src_port_rate', 'dst_host_srv_diff_host_rate', 'target',\n",
       "       'Attack Type'],\n",
       "      dtype='object')"
      ]
     },
     "execution_count": 4,
     "metadata": {},
     "output_type": "execute_result"
    }
   ],
   "source": [
    "from scapy.all import sniff, IP, TCP, UDP\n",
    "\n",
    "# Function to process packets and match with the required features\n",
    "def process_packet(packet):\n",
    "    feature_vector = {\n",
    "        'duration': 0,  # Placeholder (requires more complex timing logic)\n",
    "        'protocol_type': packet[IP].proto if IP in packet else 0,  # Protocol type (TCP, UDP, etc.)\n",
    "        'flag': packet[IP].flags if IP in packet else 0,  # Flags\n",
    "        'src_bytes': len(packet[IP].payload) if IP in packet else 0,  # Payload size\n",
    "        'dst_bytes': 0,  # Placeholder (might need session tracking)\n",
    "        'land': 1 if IP in packet and packet[IP].src == packet[IP].dst else 0,  # 1 if src IP == dst IP\n",
    "        'wrong_fragment': packet[IP].frag if IP in packet else 0,  # Fragment offset\n",
    "        'urgent': packet[TCP].urgptr if TCP in packet else 0,  # Urgent pointer (TCP only)\n",
    "        'hot': 0,  # Placeholder (context-dependent)\n",
    "        'num_failed_logins': 0,  # Placeholder\n",
    "        'logged_in': 0,  # Placeholder\n",
    "        'num_compromised': 0,  # Placeholder\n",
    "        'root_shell': 0,  # Placeholder\n",
    "        'su_attempted': 0,  # Placeholder\n",
    "        'num_file_creations': 0,  # Placeholder\n",
    "        'num_shells': 0,  # Placeholder\n",
    "        'num_access_files': 0,  # Placeholder\n",
    "        'num_outbound_cmds': 0,  # Placeholder\n",
    "        'is_host_login': 0,  # Placeholder\n",
    "        'is_guest_login': 0,  # Placeholder\n",
    "        'count': 1,  # Placeholder \n",
    "        'srv_count': 1,  # Placeholder \n",
    "        'serror_rate': 0,  # Placeholder\n",
    "        'rerror_rate': 0,  # Placeholder \n",
    "        'same_srv_rate': 0,  # Placeholder \n",
    "        'diff_srv_rate': 0,  # Placeholder \n",
    "        'srv_diff_host_rate': 0,  # Placeholder \n",
    "        'dst_host_count': 0,  # Placeholder \n",
    "        'dst_host_srv_count': 0,  # Placeholder\n",
    "        'dst_host_diff_srv_rate': 0,  # Placeholder\n",
    "        'dst_host_same_src_port_rate': 0,  # Placeholder\n",
    "        'dst_host_srv_diff_host_rate': 0,  # Placeholder\n",
    "        'target': 0,  # Placeholder\n",
    "        'Attack Type': 'normal',  # Placeholder\n",
    "    }\n",
    "    \n",
    "    return feature_vector\n",
    "\n",
    "# Function to capture packets and process them\n",
    "def capture_live_traffic(packet_count=10, iface=None):\n",
    "    packets = sniff(count=packet_count, iface=iface)\n",
    "    features = [process_packet(packet) for packet in packets]\n",
    "    return features\n",
    "\n",
    "# Specify the interface\n",
    "live_data = capture_live_traffic(packet_count=10, iface='Intel(R) Wi-Fi 6 AX201 160MHz')\n",
    "\n",
    "# Print the captured data in column-wise format\n",
    "import pandas as pd\n",
    "df_live_data = pd.DataFrame(live_data)\n",
    "print(df_live_data)\n",
    "df_live_data.columns"
   ]
  },
  {
   "cell_type": "markdown",
   "metadata": {},
   "source": [
    "### Making Predictions based on live data"
   ]
  },
  {
   "cell_type": "code",
   "execution_count": 6,
   "metadata": {},
   "outputs": [
    {
     "name": "stdout",
     "output_type": "stream",
     "text": [
      "['normal' 'normal' 'normal' 'normal' 'normal' 'normal' 'normal' 'normal'\n",
      " 'normal' 'normal']\n"
     ]
    }
   ],
   "source": [
    "import joblib\n",
    "import pandas as pd\n",
    "from sklearn.preprocessing import LabelEncoder\n",
    "\n",
    "# Load the pre-trained model\n",
    "loaded_model = joblib.load('random_forest_model.pkl')\n",
    "\n",
    "# Manually define the expected feature names (replace with actual feature names)\n",
    "model_columns = ['duration', 'protocol_type', 'flag', 'src_bytes', 'dst_bytes', 'land',\n",
    "                 'wrong_fragment', 'urgent', 'hot', 'num_failed_logins', 'logged_in',\n",
    "                 'num_compromised', 'root_shell', 'su_attempted', 'num_file_creations',\n",
    "                 'num_shells', 'num_access_files', 'num_outbound_cmds', 'is_host_login',\n",
    "                 'is_guest_login', 'count', 'srv_count', 'serror_rate', 'rerror_rate',\n",
    "                 'same_srv_rate', 'diff_srv_rate', 'srv_diff_host_rate',\n",
    "                 'dst_host_count', 'dst_host_srv_count', 'dst_host_diff_srv_rate',\n",
    "                 'dst_host_same_src_port_rate', 'dst_host_srv_diff_host_rate']\n",
    "\n",
    "# Subset df_live_data to only include the expected features\n",
    "df_live_data = df_live_data[model_columns]\n",
    "\n",
    "# Apply label encoding to categorical features if necessary\n",
    "label_encoders = {}\n",
    "for column in df_live_data.columns:\n",
    "    if df_live_data[column].dtype == 'object':\n",
    "        le = LabelEncoder()\n",
    "        df_live_data[column] = le.fit_transform(df_live_data[column].astype(str))\n",
    "        label_encoders[column] = le  # Save encoder for potential inverse transformation\n",
    "\n",
    "# Ensure the DataFrame is fully numeric\n",
    "df_live_data = df_live_data.apply(pd.to_numeric)\n",
    "\n",
    "# Convert DataFrame to numpy array\n",
    "X_live = df_live_data.values\n",
    "\n",
    "# Apply the model to the preprocessed live data\n",
    "predictions = loaded_model.predict(X_live)\n",
    "\n",
    "# Print the predictions\n",
    "print(predictions)\n"
   ]
  },
  {
   "cell_type": "markdown",
   "metadata": {},
   "source": [
    "# Making predictions when Malicious Data is available"
   ]
  },
  {
   "cell_type": "markdown",
   "metadata": {},
   "source": [
    "### Manually injecting bad traffic"
   ]
  },
  {
   "cell_type": "code",
   "execution_count": 7,
   "metadata": {},
   "outputs": [],
   "source": [
    "# Creating a copy of the live data\n",
    "malicious_data = df_live_data.copy()\n",
    "\n",
    "# Inject malicious values\n",
    "malicious_data.iloc[1, malicious_data.columns.get_loc('duration')] = 0\n",
    "malicious_data.iloc[1, malicious_data.columns.get_loc('protocol_type')] = 1  # tcp\n",
    "malicious_data.iloc[1, malicious_data.columns.get_loc('flag')] = 0  # S0\n",
    "malicious_data.iloc[1, malicious_data.columns.get_loc('src_bytes')] = 0\n",
    "malicious_data.iloc[1, malicious_data.columns.get_loc('dst_bytes')] = 0\n"
   ]
  },
  {
   "cell_type": "markdown",
   "metadata": {},
   "source": [
    "### Running the Model on the Modified Data"
   ]
  },
  {
   "cell_type": "code",
   "execution_count": 8,
   "metadata": {},
   "outputs": [
    {
     "name": "stdout",
     "output_type": "stream",
     "text": [
      "['normal' 'dos' 'normal' 'normal' 'normal' 'normal' 'normal' 'normal'\n",
      " 'normal' 'normal']\n"
     ]
    }
   ],
   "source": [
    "# Convert DataFrame to numpy array\n",
    "X_malicious = malicious_data.values\n",
    "\n",
    "# Get predictions\n",
    "predictions = loaded_model.predict(X_malicious)\n",
    "\n",
    "# Print predictions\n",
    "print(predictions)\n"
   ]
  }
 ],
 "metadata": {
  "kernelspec": {
   "display_name": ".env",
   "language": "python",
   "name": "python3"
  },
  "language_info": {
   "codemirror_mode": {
    "name": "ipython",
    "version": 3
   },
   "file_extension": ".py",
   "mimetype": "text/x-python",
   "name": "python",
   "nbconvert_exporter": "python",
   "pygments_lexer": "ipython3",
   "version": "3.10.4"
  }
 },
 "nbformat": 4,
 "nbformat_minor": 2
}
